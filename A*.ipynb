{
 "cells": [
  {
   "cell_type": "code",
   "execution_count": null,
   "metadata": {},
   "outputs": [],
   "source": [
    "import pandas as pd\n",
    "import numpy as np\n",
    "import heapq as hq\n",
    "import math\n"
   ]
  },
  {
   "cell_type": "code",
   "execution_count": 9,
   "metadata": {},
   "outputs": [],
   "source": [
    "import networkx as nx\n",
    "\n",
    "def create_graph():\n",
    "    G = nx.Graph()\n",
    "    G.add_node(1, pos=(0, 0))\n",
    "    G.add_node(2, pos=(1, 0))\n",
    "    G.add_node(3, pos=(0, 1))\n",
    "    G.add_node(4, pos=(1, 1))\n",
    "    G.add_node(5, pos=(2, 1))\n",
    "    \n",
    "    # Adicionando arestas com pesos (atributo 'weight')\n",
    "    edges = [\n",
    "        (1, 2, 3),\n",
    "        (1, 3, 7),\n",
    "        (2, 4, 4),\n",
    "        (3, 4, 9),\n",
    "        (4, 5, 2),\n",
    "        (2, 3, 5),\n",
    "        (1, 5, 10)\n",
    "    ]\n",
    "    \n",
    "    for u, v, w in edges:\n",
    "        G.add_edge(u, v, weight=w)\n",
    "    \n",
    "    return G\n",
    "    \n"
   ]
  },
  {
   "cell_type": "code",
   "execution_count": null,
   "metadata": {},
   "outputs": [],
   "source": [
    "\n",
    "def euclidean(G, node1, node2):\n",
    "    x1, y1 = G.nodes[node1]['pos']\n",
    "    x2, y2 = G.nodes[node2]['pos']\n",
    "    return math.hypot(x2 - x1, y2 - y1)  \n",
    "\n",
    "def manhattan(G, node1, node2):\n",
    "    x1, y1 = G.nodes[node1]['pos']\n",
    "    x2, y2 = G.nodes[node2]['pos']\n",
    "    return abs(x2 - x1) + abs(y2 - y1)\n",
    "\n",
    "\n"
   ]
  },
  {
   "cell_type": "code",
   "execution_count": null,
   "metadata": {},
   "outputs": [],
   "source": [
    "def A_asterisco(G, start, end):\n",
    "    open_set = [(0, start)]\n",
    "    came_from = {start: None}\n",
    "    \n",
    "    g_score = {node: float('inf') for node in G.nodes}\n",
    "    g_score[start] = 0\n",
    "    \n",
    "    f_score = {node: float('inf') for node in G.nodes}\n",
    "    f_score[start] = heuristic(G, start, end)\n",
    "    \n",
    "    while open_set:\n",
    "        _, current = hq.heappop(open_set)\n",
    "        \n",
    "        if current == end:\n",
    "            break\n",
    "        \n",
    "        for neighbor in G.neighbors(current):\n",
    "            tentative_g = g_score[current] + G[current][neighbor]['weight']\n",
    "            \n",
    "            if tentative_g < g_score[neighbor]:\n",
    "                came_from[neighbor] = current\n",
    "                g_score[neighbor] = tentative_g\n",
    "                f_score[neighbor] = tentative_g + euclidean(G, neighbor, end)\n",
    "                hq.heappush(open_set, (f_score[neighbor], neighbor))\n",
    "    \n",
    "    return g_score, came_from\n",
    "\n",
    "def reconstruct_path(came_from, start, end):\n",
    "    path = []\n",
    "    current = end\n",
    "    while current != start:\n",
    "        path.append(current)\n",
    "        current = came_from.get(current)\n",
    "        if current is None:\n",
    "            return []  \n",
    "    path.append(start)\n",
    "    path.reverse()\n",
    "    return path\n"
   ]
  },
  {
   "cell_type": "code",
   "execution_count": null,
   "metadata": {},
   "outputs": [
    {
     "name": "stdout",
     "output_type": "stream",
     "text": [
      "Custo do caminho: 9\n",
      "Caminho: [1, 2, 4, 5]\n"
     ]
    }
   ],
   "source": [
    "G = create_graph()\n",
    "g_score, came_from = A_asterisco(G, start=1, end=5)\n",
    "path = reconstruct_path(came_from, start=1, end=5)\n",
    "\n",
    "print(\"Custo do caminho:\", g_score[5])\n",
    "print(\"Caminho:\", path)\n"
   ]
  }
 ],
 "metadata": {
  "kernelspec": {
   "display_name": "Python 3.12 (Jupyter)",
   "language": "python",
   "name": "py312_jupyter"
  },
  "language_info": {
   "codemirror_mode": {
    "name": "ipython",
    "version": 3
   },
   "file_extension": ".py",
   "mimetype": "text/x-python",
   "name": "python",
   "nbconvert_exporter": "python",
   "pygments_lexer": "ipython3",
   "version": "3.12.9"
  }
 },
 "nbformat": 4,
 "nbformat_minor": 2
}
