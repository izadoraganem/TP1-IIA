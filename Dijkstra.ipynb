{
 "cells": [
  {
   "cell_type": "code",
   "execution_count": 3,
   "metadata": {},
   "outputs": [],
   "source": [
    "import numpy as np\n",
    "import pandas as pd \n",
    "import osmnx as ox\n",
    "import heapq as hq"
   ]
  },
  {
   "cell_type": "code",
   "execution_count": 11,
   "metadata": {},
   "outputs": [],
   "source": [
    "import networkx as nx\n",
    "import heapq as hq\n",
    "\n",
    "# Criação de grafo com 5 nós e 7 arestas\n",
    "def create_graph():\n",
    "    G = nx.Graph()\n",
    "    G.add_node(1, pos=(0, 0))\n",
    "    G.add_node(2, pos=(1, 0))\n",
    "    G.add_node(3, pos=(0, 1))\n",
    "    G.add_node(4, pos=(1, 1))\n",
    "    G.add_node(5, pos=(2, 1))\n",
    "    \n",
    "    # Adicionando arestas com pesos (atributo 'weight')\n",
    "    edges = [\n",
    "        (1, 2, 3),\n",
    "        (1, 3, 7),\n",
    "        (2, 4, 4),\n",
    "        (3, 4, 9),\n",
    "        (4, 5, 2),\n",
    "        (2, 3, 5),\n",
    "        (1, 5, 10)\n",
    "    ]\n",
    "    \n",
    "    for u, v, w in edges:\n",
    "        G.add_edge(u, v, weight=w)\n",
    "    \n",
    "    return G\n",
    "\n",
    "# Algoritmo de Dijkstra com heap\n",
    "def dijkstra(G, start, end):\n",
    "    distances = {node: float('inf') for node in G.nodes}\n",
    "    distances[start] = 0\n",
    "    path = {node: None for node in G.nodes}\n",
    "    \n",
    "    queue = [(0, start)]\n",
    "    \n",
    "    while queue:\n",
    "        current_distance, current_node = hq.heappop(queue)\n",
    "        \n",
    "        if current_node == end:\n",
    "            break\n",
    "        \n",
    "        for neighbor in G.neighbors(current_node):\n",
    "            weight = G[current_node][neighbor]['weight']\n",
    "            new_distance = current_distance + weight\n",
    "            \n",
    "            if new_distance < distances[neighbor]:\n",
    "                distances[neighbor] = new_distance\n",
    "                path[neighbor] = current_node\n",
    "                hq.heappush(queue, (new_distance, neighbor))\n",
    "    \n",
    "    return distances, path\n",
    "\n",
    "# Para reconstruir o caminho:\n",
    "def reconstruct_path(path, start, end):\n",
    "    route = []\n",
    "    current = end\n",
    "    while current != start:\n",
    "        route.append(current)\n",
    "        current = path[current]\n",
    "    route.append(start)\n",
    "    route.reverse()\n",
    "    return route\n"
   ]
  },
  {
   "cell_type": "code",
   "execution_count": 13,
   "metadata": {},
   "outputs": [],
   "source": [
    "import matplotlib.pyplot as plt\n",
    "\n",
    "def plot_graph(G):\n",
    "    pos = nx.get_node_attributes(G, 'pos')  # Posições dos nós (se existirem)\n",
    "    \n",
    "    # Se os nós não tiverem posição definida, gera uma automaticamente\n",
    "    if not pos:\n",
    "        pos = nx.spring_layout(G)\n",
    "    \n",
    "    plt.figure(figsize=(8, 6))\n",
    "    \n",
    "    # Desenha nós e arestas\n",
    "    nx.draw(G, pos, with_labels=True, node_color='lightblue', node_size=800, font_weight='bold', edge_color='gray')\n",
    "\n",
    "    # Desenha os pesos das arestas\n",
    "    edge_labels = nx.get_edge_attributes(G, 'weight')\n",
    "    nx.draw_networkx_edge_labels(G, pos, edge_labels=edge_labels)\n",
    "    \n",
    "    plt.title(\"Grafo com Pesos nas Arestas\")\n",
    "    plt.axis('off')\n",
    "    plt.show()\n"
   ]
  },
  {
   "cell_type": "code",
   "execution_count": 15,
   "metadata": {},
   "outputs": [
    {
     "name": "stdout",
     "output_type": "stream",
     "text": [
      "Distância mínima: 9\n",
      "Caminho: [1, 2, 4, 5]\n"
     ]
    },
    {
     "data": {
      "image/png": "[encoded data removed]",
      "text/plain": [
       "<Figure size 800x600 with 1 Axes>"
      ]
     },
     "metadata": {},
     "output_type": "display_data"
    }
   ],
   "source": [
    "G = create_graph()\n",
    "distances, path = dijkstra(G, start=1, end=5)\n",
    "route = reconstruct_path(path, start=1, end=5)\n",
    "\n",
    "print(\"Distância mínima:\", distances[5])\n",
    "print(\"Caminho:\", route)\n",
    "plot_graph(G)\n"
   ]
  }
 ],
 "metadata": {
  "kernelspec": {
   "display_name": "Python 3.12 (Jupyter)",
   "language": "python",
   "name": "py312_jupyter"
  },
  "language_info": {
   "codemirror_mode": {
    "name": "ipython",
    "version": 3
   },
   "file_extension": ".py",
   "mimetype": "text/x-python",
   "name": "python",
   "nbconvert_exporter": "python",
   "pygments_lexer": "ipython3",
   "version": "3.12.9"
  }
 },
 "nbformat": 4,
 "nbformat_minor": 2
}
